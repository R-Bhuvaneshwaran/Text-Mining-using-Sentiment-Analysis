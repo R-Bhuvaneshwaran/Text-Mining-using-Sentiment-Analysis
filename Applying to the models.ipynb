{
 "cells": [
  {
   "cell_type": "code",
   "execution_count": 69,
   "id": "ca8ad1f9",
   "metadata": {},
   "outputs": [],
   "source": [
    " from sklearn.ensemble import BaggingClassifier"
   ]
  },
  {
   "cell_type": "code",
   "execution_count": 70,
   "id": "27ead54a",
   "metadata": {},
   "outputs": [
    {
     "name": "stdout",
     "output_type": "stream",
     "text": [
      "Accuracy:  0.9175056836635271\n",
      "Precision:  0.45890188434048085\n",
      "Recall:  0.4998230714791224\n",
      "F1:  0.4784891598915989\n",
      "              precision    recall  f1-score   support\n",
      "\n",
      "           0       0.00      0.00      0.00       253\n",
      "           1       0.92      1.00      0.96      2826\n",
      "\n",
      "    accuracy                           0.92      3079\n",
      "   macro avg       0.46      0.50      0.48      3079\n",
      "weighted avg       0.84      0.92      0.88      3079\n",
      "\n",
      "\n",
      "Confusion Matrix: \n",
      "[[   0  253]\n",
      " [   1 2825]]\n"
     ]
    },
    {
     "data": {
      "image/png": "[encoded data removed]",
      "text/plain": [
       "<Figure size 640x480 with 2 Axes>"
      ]
     },
     "metadata": {},
     "output_type": "display_data"
    }
   ],
   "source": [
    "from sklearn.naive_bayes import MultinomialNB\n",
    "import seaborn as sns\n",
    "from sklearn import metrics\n",
    "import matplotlib.pyplot as plt\n",
    "from sklearn.metrics import classification_report\n",
    "naive=MultinomialNB()\n",
    "naive.fit(x_train, y_train)\n",
    "y_pred=naive.predict(x_test)\n",
    "print(\"Accuracy: \",metrics.accuracy_score(y_test,y_pred))\n",
    "print(\"Precision: \",metrics.precision_score(y_test,y_pred,average=\"macro\"))\n",
    "print(\"Recall: \",metrics.recall_score(y_test,y_pred,average=\"macro\"))\n",
    "print(\"F1: \",metrics.f1_score(y_test,y_pred,average=\"macro\"))\n",
    "Mn_acc = metrics.accuracy_score(y_test, y_pred)\n",
    "print(classification_report(y_test,y_pred))\n",
    "#display confusion matrix\n",
    "print('\\nConfusion Matrix: \\n' + str(metrics.confusion_matrix(y_test, y_pred)))\n",
    "#plot confusion matrix\n",
    "sns.heatmap(metrics.confusion_matrix(y_test, y_pred), annot = True)\n",
    "plt.show()"
   ]
  },
  {
   "cell_type": "code",
   "execution_count": 79,
   "id": "f357096f",
   "metadata": {},
   "outputs": [
    {
     "data": {
      "text/plain": [
       "0.8772328678142254"
      ]
     },
     "execution_count": 79,
     "metadata": {},
     "output_type": "execute_result"
    }
   ],
   "source": [
    "from sklearn.tree import DecisionTreeClassifier\n",
    "dt = DecisionTreeClassifier()\n",
    "dt.fit(x_train , y_train)\n",
    "y_pred = dt.predict(x_test)\n",
    "dt_score = metrics.accuracy_score(y_test,y_pred)\n",
    "dt_score"
   ]
  },
  {
   "cell_type": "code",
   "execution_count": 80,
   "id": "f0069058",
   "metadata": {},
   "outputs": [],
   "source": [
    "from sklearn.ensemble import RandomForestClassifier\n",
    "rf=RandomForestClassifier()\n",
    "rf.fit(x_train,y_train)\n",
    "y_predd=dt.predict(x_test)\n",
    "rf_score=metrics.accuracy_score(y_test,y_predd)"
   ]
  },
  {
   "cell_type": "code",
   "execution_count": 81,
   "id": "ce5aee1e",
   "metadata": {},
   "outputs": [
    {
     "data": {
      "text/plain": [
       "0.8772328678142254"
      ]
     },
     "execution_count": 81,
     "metadata": {},
     "output_type": "execute_result"
    }
   ],
   "source": [
    "rf_score"
   ]
  }
 ],
 "metadata": {
  "kernelspec": {
   "display_name": "Python 3 (ipykernel)",
   "language": "python",
   "name": "python3"
  },
  "language_info": {
   "codemirror_mode": {
    "name": "ipython",
    "version": 3
   },
   "file_extension": ".py",
   "mimetype": "text/x-python",
   "name": "python",
   "nbconvert_exporter": "python",
   "pygments_lexer": "ipython3",
   "version": "3.9.13"
  }
 },
 "nbformat": 4,
 "nbformat_minor": 5
}
